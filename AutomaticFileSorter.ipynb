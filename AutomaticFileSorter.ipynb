{
 "cells": [
  {
   "cell_type": "markdown",
   "id": "d928aed5-c253-43cc-980f-824d3ec26950",
   "metadata": {},
   "source": [
    "Automatic File Sorter"
   ]
  },
  {
   "cell_type": "code",
   "execution_count": 21,
   "id": "9325dacf-ec36-4a3a-b380-e2913bc7c59e",
   "metadata": {},
   "outputs": [],
   "source": [
    "import os, shutil"
   ]
  },
  {
   "cell_type": "code",
   "execution_count": 37,
   "id": "96fd8b7a-98ce-409e-a575-20aee0c4f730",
   "metadata": {},
   "outputs": [],
   "source": [
    "path = r\"C:\\Users\\praveen\\Desktop\\Portfolio Projects/\""
   ]
  },
  {
   "cell_type": "code",
   "execution_count": 43,
   "id": "a6d25f6d-d962-4b51-b8c7-dacdd5ecffe4",
   "metadata": {},
   "outputs": [],
   "source": [
    "files = os.listdir(path)"
   ]
  },
  {
   "cell_type": "code",
   "execution_count": 55,
   "id": "0dc1591d-1f60-4543-9ce7-cdfdffc285fb",
   "metadata": {},
   "outputs": [],
   "source": [
    "folder_names = ['Excel files', 'BI files', 'SQL files', 'CSV files']\n",
    "\n",
    "for i in range(len(folder_names)):\n",
    "    if not os.path.exists(path + folder_names[i]):\n",
    "        os.makedirs(path + folder_names[i])"
   ]
  },
  {
   "cell_type": "code",
   "execution_count": 59,
   "id": "51dc6af7-f63d-4127-a935-b23149ba7755",
   "metadata": {},
   "outputs": [],
   "source": [
    "for file in files:\n",
    "    if \".xlsx\" in file and not os.path.exists(path + \"Excel files/\" + file):\n",
    "        shutil.move(path + file, path + \"Excel files/\" + file)\n",
    "    elif \".pbix\" in file and not os.path.exists(path + \"BI files/\" + file):\n",
    "        shutil.move(path + file, path + \"BI files/\" + file)    \n",
    "    elif \".sql\" in file and not os.path.exists(path + \"SQL files/\" + file):\n",
    "        shutil.move(path + file, path + \"SQL files/\" + file)\n",
    "    elif \".csv\" in file and not os.path.exists(path + \"CSV files/\" + file):\n",
    "        shutil.move(path + file, path + \"CSV files/\" + file)    "
   ]
  },
  {
   "cell_type": "code",
   "execution_count": null,
   "id": "1c89474c-bf3b-40a2-b541-a0d68c8676d3",
   "metadata": {},
   "outputs": [],
   "source": []
  },
  {
   "cell_type": "code",
   "execution_count": null,
   "id": "277f38e5-0c54-46fb-8e92-57d07481c3eb",
   "metadata": {},
   "outputs": [],
   "source": []
  },
  {
   "cell_type": "code",
   "execution_count": null,
   "id": "0dd95fb1-c88c-4260-95db-b172ab6ec1bc",
   "metadata": {},
   "outputs": [],
   "source": []
  },
  {
   "cell_type": "code",
   "execution_count": null,
   "id": "341e2a3f-6000-462c-8451-08b177ac1182",
   "metadata": {},
   "outputs": [],
   "source": []
  },
  {
   "cell_type": "code",
   "execution_count": null,
   "id": "517de2f1-ff04-4df5-80ea-9d25d71f250b",
   "metadata": {},
   "outputs": [],
   "source": []
  },
  {
   "cell_type": "code",
   "execution_count": null,
   "id": "719202ac-063f-419f-964e-4e574f0a47e1",
   "metadata": {},
   "outputs": [],
   "source": []
  },
  {
   "cell_type": "code",
   "execution_count": null,
   "id": "6e9de37b-11ba-4799-8cf4-699245dcaaf9",
   "metadata": {},
   "outputs": [],
   "source": []
  },
  {
   "cell_type": "code",
   "execution_count": null,
   "id": "b2c64b40-fac2-4c9f-bfab-fb27ede86e08",
   "metadata": {},
   "outputs": [],
   "source": []
  },
  {
   "cell_type": "code",
   "execution_count": null,
   "id": "77fa7219-b86f-44bb-9d5c-cc3c48c372f3",
   "metadata": {},
   "outputs": [],
   "source": []
  },
  {
   "cell_type": "code",
   "execution_count": null,
   "id": "bebc5330-ed2e-4f07-9ba1-223c2b41455f",
   "metadata": {},
   "outputs": [],
   "source": []
  },
  {
   "cell_type": "code",
   "execution_count": null,
   "id": "bb2c692e-4246-44b5-8228-662709990473",
   "metadata": {},
   "outputs": [],
   "source": []
  },
  {
   "cell_type": "code",
   "execution_count": null,
   "id": "d511be1b-825a-4b18-bfd3-d340f657363d",
   "metadata": {},
   "outputs": [],
   "source": []
  },
  {
   "cell_type": "code",
   "execution_count": null,
   "id": "06681515-f146-4967-b90d-8f8ff01e30d2",
   "metadata": {},
   "outputs": [],
   "source": []
  }
 ],
 "metadata": {
  "kernelspec": {
   "display_name": "Python 3 (ipykernel)",
   "language": "python",
   "name": "python3"
  },
  "language_info": {
   "codemirror_mode": {
    "name": "ipython",
    "version": 3
   },
   "file_extension": ".py",
   "mimetype": "text/x-python",
   "name": "python",
   "nbconvert_exporter": "python",
   "pygments_lexer": "ipython3",
   "version": "3.12.4"
  }
 },
 "nbformat": 4,
 "nbformat_minor": 5
}
